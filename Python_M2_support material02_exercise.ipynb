{
  "cells": [
    {
      "cell_type": "markdown",
      "metadata": {
        "id": "KJqp9AANOCtf"
      },
      "source": [
        "<img src=\"https://raw.githubusercontent.com/andre-marcos-perez/ebac-course-utils/main/media/logo/newebac_logo_black_half.png\" alt=\"ebac-logo\">\n",
        "\n",
        "---\n",
        "\n",
        "# **Módulo** | Python: Estruturas de Dados\n",
        "Caderno de **Exercícios**<br> \n",
        "Professor [André Perez](https://www.linkedin.com/in/andremarcosperez/)\n",
        "\n",
        "---"
      ]
    },
    {
      "cell_type": "markdown",
      "metadata": {
        "id": "d9jDtUbDOE1-"
      },
      "source": [
        "# **Tópicos**\n",
        "\n",
        "<ol type=\"1\">\n",
        "  <li>Listas;</li>\n",
        "  <li>Conjuntos;</li>\n",
        "  <li>Dicionários.</li>\n",
        "</ol>"
      ]
    },
    {
      "cell_type": "markdown",
      "metadata": {
        "id": "SmoHgt-lwkpD"
      },
      "source": [
        "---"
      ]
    },
    {
      "cell_type": "markdown",
      "metadata": {
        "id": "GABI6OW8OfQ2"
      },
      "source": [
        "# **Exercícios**"
      ]
    },
    {
      "cell_type": "markdown",
      "metadata": {
        "id": "muD1vxozykSC"
      },
      "source": [
        "## 1\\. Listas"
      ]
    },
    {
      "cell_type": "markdown",
      "metadata": {
        "id": "ahrFfCuBxJKs"
      },
      "source": [
        "Criei uma lista chamada `filmes` com o nome dos 10 primeiros filmes mais bem avaliados no site no [IMDB](https://www.imdb.com/chart/top/). Imprima o resultado."
      ]
    },
    {
      "cell_type": "code",
      "execution_count": 3,
      "metadata": {
        "id": "OgL6Hv3bzOHI"
      },
      "outputs": [],
      "source": [
        "filmes = ['Um Sonho de Liberdade', 'O Poderoso Chefão', ' Batman: O Cavaleiro das Trevas', 'O Poderoso Chefão: Parte II', '12 Homens e uma Sentença', 'O Senhor dos Anéis: O Retorno do Rei', ' A Lista de Schindler',' Pulp Fiction: Tempo de Violência', 'O Senhor dos Anéis: A Sociedade do Anel' , ' Três Homens em Conflito'] "
      ]
    },
    {
      "cell_type": "code",
      "execution_count": 4,
      "metadata": {},
      "outputs": [
        {
          "name": "stdout",
          "output_type": "stream",
          "text": [
            "['Um Sonho de Liberdade', 'O Poderoso Chefão', ' Batman: O Cavaleiro das Trevas', 'O Poderoso Chefão: Parte II', '12 Homens e uma Sentença', 'O Senhor dos Anéis: O Retorno do Rei', ' A Lista de Schindler', ' Pulp Fiction: Tempo de Violência', 'O Senhor dos Anéis: A Sociedade do Anel', ' Três Homens em Conflito']\n"
          ]
        }
      ],
      "source": [
        "print(filmes)"
      ]
    },
    {
      "cell_type": "markdown",
      "metadata": {
        "id": "KI9zQRT2xa7m"
      },
      "source": [
        "Simule a movimentação do *ranking*. Utilize os métodos `insert` e `pop` para trocar a posição do primeiro e do segundo filme da lista. Imprima o resultado.\n",
        "\n"
      ]
    },
    {
      "cell_type": "code",
      "execution_count": 5,
      "metadata": {
        "id": "zX3mA3_GzrXH"
      },
      "outputs": [
        {
          "name": "stdout",
          "output_type": "stream",
          "text": [
            "[' Gladiador', 'Um Sonho de Liberdade', 'O Poderoso Chefão', ' Batman: O Cavaleiro das Trevas', 'O Poderoso Chefão: Parte II', '12 Homens e uma Sentença', 'O Senhor dos Anéis: O Retorno do Rei', ' A Lista de Schindler', ' Pulp Fiction: Tempo de Violência', 'O Senhor dos Anéis: A Sociedade do Anel', ' Três Homens em Conflito']\n"
          ]
        }
      ],
      "source": [
        "filmes.insert(0, ' Gladiador') \n",
        "print (filmes)\n"
      ]
    },
    {
      "cell_type": "code",
      "execution_count": 6,
      "metadata": {},
      "outputs": [
        {
          "name": "stdout",
          "output_type": "stream",
          "text": [
            "[' Gladiador', 'Um Sonho de Liberdade', 'O Poderoso Chefão', ' Batman: O Cavaleiro das Trevas', 'O Poderoso Chefão: Parte II', 'O Senhor dos Anéis: O Retorno do Rei', ' A Lista de Schindler', ' Pulp Fiction: Tempo de Violência', 'O Senhor dos Anéis: A Sociedade do Anel', ' Três Homens em Conflito']\n"
          ]
        }
      ],
      "source": [
        "filmes.pop(5)\n",
        "print (filmes)"
      ]
    },
    {
      "cell_type": "markdown",
      "metadata": {
        "id": "zMN1Q3jdwoJm"
      },
      "source": [
        "---"
      ]
    },
    {
      "cell_type": "markdown",
      "metadata": {
        "id": "lxa5L6uF0ZJE"
      },
      "source": [
        "## 2\\. Conjuntos"
      ]
    },
    {
      "cell_type": "markdown",
      "metadata": {
        "id": "9JahS2Kj0d5u"
      },
      "source": [
        "Aconteceu um erro no seu *ranking*. Simule a duplicação dos três últimos filmes da lista. Imprima o resultado."
      ]
    },
    {
      "cell_type": "code",
      "execution_count": 8,
      "metadata": {
        "id": "BnjnLBNC6PGe"
      },
      "outputs": [
        {
          "name": "stdout",
          "output_type": "stream",
          "text": [
            "{'O Poderoso Chefão: Parte II', '12 Homens e uma Sentença', 'O Senhor dos Anéis: A Sociedade do Anel', 'Um Sonho de Liberdade', 'O Senhor dos Anéis: O Retorno do Rei', ' Pulp Fiction: Tempo de Violência', ' A Lista de Schindler', ' Três Homens em Conflito', ' Batman: O Cavaleiro das Trevas', 'O Poderoso Chefão'}\n",
            "<class 'set'>\n"
          ]
        }
      ],
      "source": []
    },
    {
      "cell_type": "markdown",
      "metadata": {
        "id": "suxTfCJB6ZiX"
      },
      "source": [
        "Utiliza a conversão `set` e `list` para remover os valores duplicados. Imprima o resultado. "
      ]
    },
    {
      "cell_type": "code",
      "execution_count": null,
      "metadata": {
        "id": "ZvUGN-0n6joM"
      },
      "outputs": [],
      "source": []
    },
    {
      "cell_type": "markdown",
      "metadata": {
        "id": "ShkK35eQ6pAM"
      },
      "source": [
        "---"
      ]
    },
    {
      "cell_type": "markdown",
      "metadata": {
        "id": "EL_FzmxL6rTv"
      },
      "source": [
        "## 3\\. Dicionários"
      ]
    },
    {
      "cell_type": "markdown",
      "metadata": {
        "id": "i8l0gFqRCpfT"
      },
      "source": [
        "Repita os exercícios da parte 1 (listas). Os elementos da lista `filmes` devem ser dicionários no seguinte formato: `{'nome': <nome-do-filme>, 'ano': <ano do filme>}, 'sinopse': <sinopse do filme>}`. "
      ]
    },
    {
      "cell_type": "code",
      "execution_count": null,
      "metadata": {
        "id": "tu6MSFwGDnHv"
      },
      "outputs": [],
      "source": []
    }
  ],
  "metadata": {
    "colab": {
      "collapsed_sections": [],
      "name": "module_2_exercise.ipynb",
      "provenance": [],
      "toc_visible": true
    },
    "kernelspec": {
      "display_name": "Python 3",
      "name": "python3"
    },
    "language_info": {
      "codemirror_mode": {
        "name": "ipython",
        "version": 3
      },
      "file_extension": ".py",
      "mimetype": "text/x-python",
      "name": "python",
      "nbconvert_exporter": "python",
      "pygments_lexer": "ipython3",
      "version": "3.12.6"
    }
  },
  "nbformat": 4,
  "nbformat_minor": 0
}
