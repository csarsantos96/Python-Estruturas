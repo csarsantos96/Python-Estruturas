{
  "cells": [
    {
      "cell_type": "markdown",
      "metadata": {
        "id": "KJqp9AANOCtf"
      },
      "source": [
        "<img src=\"https://raw.githubusercontent.com/andre-marcos-perez/ebac-course-utils/main/media/logo/newebac_logo_black_half.png\" alt=\"ebac-logo\">\n",
        "\n",
        "---\n",
        "\n",
        "# **Módulo** | Python: Estruturas de Dados\n",
        "Caderno de **Exercícios**<br> \n",
        "Professor [André Perez](https://www.linkedin.com/in/andremarcosperez/)\n",
        "\n",
        "---"
      ]
    },
    {
      "cell_type": "markdown",
      "metadata": {
        "id": "d9jDtUbDOE1-"
      },
      "source": [
        "# **Tópicos**\n",
        "\n",
        "<ol type=\"1\">\n",
        "  <li>Listas;</li>\n",
        "  <li>Conjuntos;</li>\n",
        "  <li>Dicionários.</li>\n",
        "</ol>"
      ]
    },
    {
      "cell_type": "markdown",
      "metadata": {
        "id": "SmoHgt-lwkpD"
      },
      "source": [
        "---"
      ]
    },
    {
      "cell_type": "markdown",
      "metadata": {
        "id": "GABI6OW8OfQ2"
      },
      "source": [
        "# **Exercícios**"
      ]
    },
    {
      "cell_type": "markdown",
      "metadata": {
        "id": "muD1vxozykSC"
      },
      "source": [
        "## 1\\. Listas"
      ]
    },
    {
      "cell_type": "markdown",
      "metadata": {
        "id": "ahrFfCuBxJKs"
      },
      "source": [
        "Criei uma lista chamada `filmes` com o nome dos 10 primeiros filmes mais bem avaliados no site no [IMDB](https://www.imdb.com/chart/top/). Imprima o resultado."
      ]
    },
    {
      "cell_type": "code",
      "execution_count": 6,
      "metadata": {
        "id": "OgL6Hv3bzOHI"
      },
      "outputs": [],
      "source": [
        "filmes = ['Um Sonho de Liberdade', 'O Poderoso Chefão', ' Batman: O Cavaleiro das Trevas', 'O Poderoso Chefão: Parte II', '12 Homens e uma Sentença', 'O Senhor dos Anéis: O Retorno do Rei', ' A Lista de Schindler',' Pulp Fiction: Tempo de Violência', 'O Senhor dos Anéis: A Sociedade do Anel' , ' Três Homens em Conflito'] "
      ]
    },
    {
      "cell_type": "code",
      "execution_count": 7,
      "metadata": {},
      "outputs": [
        {
          "name": "stdout",
          "output_type": "stream",
          "text": [
            "['Um Sonho de Liberdade', 'O Poderoso Chefão', ' Batman: O Cavaleiro das Trevas', 'O Poderoso Chefão: Parte II', '12 Homens e uma Sentença', 'O Senhor dos Anéis: O Retorno do Rei', ' A Lista de Schindler', ' Pulp Fiction: Tempo de Violência', 'O Senhor dos Anéis: A Sociedade do Anel', ' Três Homens em Conflito']\n"
          ]
        }
      ],
      "source": [
        "print(filmes)"
      ]
    },
    {
      "cell_type": "markdown",
      "metadata": {
        "id": "KI9zQRT2xa7m"
      },
      "source": [
        "Simule a movimentação do *ranking*. Utilize os métodos `insert` e `pop` para trocar a posição do primeiro e do segundo filme da lista. Imprima o resultado.\n",
        "\n"
      ]
    },
    {
      "cell_type": "code",
      "execution_count": 12,
      "metadata": {
        "id": "zX3mA3_GzrXH"
      },
      "outputs": [
        {
          "name": "stdout",
          "output_type": "stream",
          "text": [
            "['O Poderoso Chefão', 'Um Sonho de Liberdade', 'Batman: O Cavaleiro das Trevas', 'O Poderoso Chefão: Parte II', '12 Homens e uma Sentença', 'O Senhor dos Anéis: O Retorno do Rei', 'A Lista de Schindler', 'Pulp Fiction: Tempo de Violência', 'O Senhor dos Anéis: A Sociedade do Anel', 'Três Homens em Conflito']\n"
          ]
        }
      ],
      "source": [
        "filmes = [\n",
        "    'Um Sonho de Liberdade', \n",
        "    'O Poderoso Chefão', \n",
        "    'Batman: O Cavaleiro das Trevas', \n",
        "    'O Poderoso Chefão: Parte II', \n",
        "    '12 Homens e uma Sentença', \n",
        "    'O Senhor dos Anéis: O Retorno do Rei', \n",
        "    'A Lista de Schindler',\n",
        "    'Pulp Fiction: Tempo de Violência', \n",
        "    'O Senhor dos Anéis: A Sociedade do Anel', \n",
        "    'Três Homens em Conflito'\n",
        "]\n",
        "\n",
        "# Usando insert para trocar a posição dos dois primeiros filmes\n",
        "filmes.insert(1, filmes.pop(0))  # Remove o primeiro e insere na segunda posição\n",
        "print(filmes)\n"
      ]
    },
    {
      "cell_type": "code",
      "execution_count": 18,
      "metadata": {},
      "outputs": [
        {
          "name": "stdout",
          "output_type": "stream",
          "text": [
            "['O Poderoso Chefão', 'Um Sonho de Liberdade', 'Batman: O Cavaleiro das Trevas', 'O Poderoso Chefão: Parte II', '12 Homens e uma Sentença', 'O Senhor dos Anéis: O Retorno do Rei', 'A Lista de Schindler', 'Pulp Fiction: Tempo de Violência', 'O Senhor dos Anéis: A Sociedade do Anel', 'Três Homens em Conflito']\n"
          ]
        }
      ],
      "source": [
        "# Lista de filmes\n",
        "filmes = [\n",
        "    'Um Sonho de Liberdade', \n",
        "    'O Poderoso Chefão', \n",
        "    'Batman: O Cavaleiro das Trevas', \n",
        "    'O Poderoso Chefão: Parte II', \n",
        "    '12 Homens e uma Sentença', \n",
        "    'O Senhor dos Anéis: O Retorno do Rei', \n",
        "    'A Lista de Schindler',\n",
        "    'Pulp Fiction: Tempo de Violência', \n",
        "    'O Senhor dos Anéis: A Sociedade do Anel', \n",
        "    'Três Homens em Conflito'\n",
        "]\n",
        "\n",
        "# Usando pop para remover e trocar os dois primeiros filmes\n",
        "primeiro = filmes.pop(0)  \n",
        "segundo = filmes.pop(0)   \n",
        "\n",
        "filmes = [segundo, primeiro] + filmes\n",
        "\n",
        "print(filmes)\n"
      ]
    },
    {
      "cell_type": "markdown",
      "metadata": {
        "id": "zMN1Q3jdwoJm"
      },
      "source": [
        "---"
      ]
    },
    {
      "cell_type": "markdown",
      "metadata": {
        "id": "lxa5L6uF0ZJE"
      },
      "source": [
        "## 2\\. Conjuntos"
      ]
    },
    {
      "cell_type": "markdown",
      "metadata": {
        "id": "9JahS2Kj0d5u"
      },
      "source": [
        "Aconteceu um erro no seu *ranking*. Simule a duplicação dos três últimos filmes da lista. Imprima o resultado."
      ]
    },
    {
      "cell_type": "code",
      "execution_count": 10,
      "metadata": {
        "id": "BnjnLBNC6PGe"
      },
      "outputs": [
        {
          "name": "stdout",
          "output_type": "stream",
          "text": [
            "['Um Sonho de Liberdade', 'O Poderoso Chefão', 'Batman: O Cavaleiro das Trevas', 'O Poderoso Chefão: Parte II', '12 Homens e uma Sentença', 'O Senhor dos Anéis: O Retorno do Rei', 'A Lista de Schindler', 'Pulp Fiction: Tempo de Violência', 'O Senhor dos Anéis: A Sociedade do Anel', 'Três Homens em Conflito', 'Pulp Fiction: Tempo de Violência', 'O Senhor dos Anéis: A Sociedade do Anel', 'Três Homens em Conflito']\n"
          ]
        }
      ],
      "source": [
        "filmes =['Um Sonho de Liberdade', \n",
        "    'O Poderoso Chefão', \n",
        "    'Batman: O Cavaleiro das Trevas', \n",
        "    'O Poderoso Chefão: Parte II', \n",
        "    '12 Homens e uma Sentença', \n",
        "    'O Senhor dos Anéis: O Retorno do Rei', \n",
        "    'A Lista de Schindler', \n",
        "    'Pulp Fiction: Tempo de Violência', \n",
        "    'O Senhor dos Anéis: A Sociedade do Anel', \n",
        "    'Três Homens em Conflito']\n",
        "filmes.extend(filmes[-3:])\n",
        "print (filmes)"
      ]
    },
    {
      "cell_type": "markdown",
      "metadata": {
        "id": "suxTfCJB6ZiX"
      },
      "source": [
        "Utiliza a conversão `set` e `list` para remover os valores duplicados. Imprima o resultado. "
      ]
    },
    {
      "cell_type": "code",
      "execution_count": 36,
      "metadata": {
        "id": "ZvUGN-0n6joM"
      },
      "outputs": [
        {
          "name": "stdout",
          "output_type": "stream",
          "text": [
            "['O Poderoso Chefão: Parte II', 'Três Homens em Conflito', '12 Homens e uma Sentença', 'O Senhor dos Anéis: A Sociedade do Anel', 'Um Sonho de Liberdade', 'O Senhor dos Anéis: O Retorno do Rei', 'A Lista de Schindler', 'O Poderoso Chefão', 'Pulp Fiction: Tempo de Violência', 'Batman: O Cavaleiro das Trevas']\n"
          ]
        }
      ],
      "source": [
        "filmes = list(set(filmes))\n",
        "print (filmes)"
      ]
    },
    {
      "cell_type": "markdown",
      "metadata": {
        "id": "ShkK35eQ6pAM"
      },
      "source": [
        "---"
      ]
    },
    {
      "cell_type": "markdown",
      "metadata": {
        "id": "EL_FzmxL6rTv"
      },
      "source": [
        "## 3\\. Dicionários"
      ]
    },
    {
      "cell_type": "markdown",
      "metadata": {
        "id": "i8l0gFqRCpfT"
      },
      "source": [
        "Repita os exercícios da parte 1 (listas). Os elementos da lista `filmes` devem ser dicionários no seguinte formato: `{'nome': <nome-do-filme>, 'ano': <ano do filme>}, 'sinopse': <sinopse do filme>}`. "
      ]
    },
    {
      "cell_type": "code",
      "execution_count": 38,
      "metadata": {
        "id": "tu6MSFwGDnHv"
      },
      "outputs": [
        {
          "name": "stdout",
          "output_type": "stream",
          "text": [
            "{'nome': 'Um Sonho de Liberdade', 'ano': 1994, 'sinopse': 'Um homem condenado injustamente tenta encontrar liberdade em uma prisão de segurança máxima.'}\n",
            "{'nome': 'O Poderoso Chefão', 'ano': 1972, 'sinopse': 'A história da poderosa família mafiosa Corleone e os negócios ilícitos que dominam suas vidas.'}\n",
            "{'nome': 'Batman: O Cavaleiro das Trevas', 'ano': 2008, 'sinopse': 'Batman enfrenta o vilão Coringa, que quer mergulhar Gotham City no caos.'}\n",
            "{'nome': 'O Poderoso Chefão: Parte II', 'ano': 1974, 'sinopse': 'Continuação da saga da família Corleone, enquanto Michael Corleone tenta manter o império criminoso.'}\n",
            "{'nome': '12 Homens e uma Sentença', 'ano': 1957, 'sinopse': 'Doze jurados devem decidir se um jovem é culpado de assassinato, mas um deles começa a questionar as evidências.'}\n",
            "{'nome': 'O Senhor dos Anéis: O Retorno do Rei', 'ano': 2003, 'sinopse': 'O terceiro filme da trilogia onde a batalha final pela Terra-média ocorre e Frodo busca destruir o anel.'}\n",
            "{'nome': 'A Lista de Schindler', 'ano': 1993, 'sinopse': 'Baseado em uma história real, um empresário salva milhares de judeus durante o Holocausto.'}\n",
            "{'nome': 'Pulp Fiction: Tempo de Violência', 'ano': 1994, 'sinopse': 'A história de vários personagens cujas vidas se cruzam em uma narrativa não-linear.'}\n",
            "{'nome': 'O Senhor dos Anéis: A Sociedade do Anel', 'ano': 2001, 'sinopse': 'Frodo Baggins se junta a uma sociedade para destruir o Um Anel e evitar que Sauron conquiste a Terra-média.'}\n",
            "{'nome': 'Três Homens em Conflito', 'ano': 1966, 'sinopse': 'Três pistoleiros se envolvem em uma luta por um tesouro escondido durante a Guerra Civil Americana.'}\n"
          ]
        }
      ],
      "source": [
        "filmes = [\n",
        "    {'nome': 'Um Sonho de Liberdade', 'ano': 1994, 'sinopse': 'Um homem condenado injustamente tenta encontrar liberdade em uma prisão de segurança máxima.'},\n",
        "    {'nome': 'O Poderoso Chefão', 'ano': 1972, 'sinopse': 'A história da poderosa família mafiosa Corleone e os negócios ilícitos que dominam suas vidas.'},\n",
        "    {'nome': 'Batman: O Cavaleiro das Trevas', 'ano': 2008, 'sinopse': 'Batman enfrenta o vilão Coringa, que quer mergulhar Gotham City no caos.'},\n",
        "    {'nome': 'O Poderoso Chefão: Parte II', 'ano': 1974, 'sinopse': 'Continuação da saga da família Corleone, enquanto Michael Corleone tenta manter o império criminoso.'},\n",
        "    {'nome': '12 Homens e uma Sentença', 'ano': 1957, 'sinopse': 'Doze jurados devem decidir se um jovem é culpado de assassinato, mas um deles começa a questionar as evidências.'},\n",
        "    {'nome': 'O Senhor dos Anéis: O Retorno do Rei', 'ano': 2003, 'sinopse': 'O terceiro filme da trilogia onde a batalha final pela Terra-média ocorre e Frodo busca destruir o anel.'},\n",
        "    {'nome': 'A Lista de Schindler', 'ano': 1993, 'sinopse': 'Baseado em uma história real, um empresário salva milhares de judeus durante o Holocausto.'},\n",
        "    {'nome': 'Pulp Fiction: Tempo de Violência', 'ano': 1994, 'sinopse': 'A história de vários personagens cujas vidas se cruzam em uma narrativa não-linear.'},\n",
        "    {'nome': 'O Senhor dos Anéis: A Sociedade do Anel', 'ano': 2001, 'sinopse': 'Frodo Baggins se junta a uma sociedade para destruir o Um Anel e evitar que Sauron conquiste a Terra-média.'},\n",
        "    {'nome': 'Três Homens em Conflito', 'ano': 1966, 'sinopse': 'Três pistoleiros se envolvem em uma luta por um tesouro escondido durante a Guerra Civil Americana.'}\n",
        "]\n",
        "\n",
        "\n",
        "for filme in filmes:\n",
        "    print(filme)"
      ]
    }
  ],
  "metadata": {
    "colab": {
      "collapsed_sections": [],
      "name": "module_2_exercise.ipynb",
      "provenance": [],
      "toc_visible": true
    },
    "kernelspec": {
      "display_name": "Python 3",
      "name": "python3"
    },
    "language_info": {
      "codemirror_mode": {
        "name": "ipython",
        "version": 3
      },
      "file_extension": ".py",
      "mimetype": "text/x-python",
      "name": "python",
      "nbconvert_exporter": "python",
      "pygments_lexer": "ipython3",
      "version": "3.12.6"
    }
  },
  "nbformat": 4,
  "nbformat_minor": 0
}
